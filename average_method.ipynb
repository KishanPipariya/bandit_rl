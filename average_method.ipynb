{
 "cells": [
  {
   "cell_type": "code",
   "execution_count": 2,
   "metadata": {},
   "outputs": [],
   "source": [
    "from bandit_prob import BanditProblem\n",
    "import numpy as np"
   ]
  },
  {
   "cell_type": "code",
   "execution_count": 3,
   "metadata": {},
   "outputs": [],
   "source": [
    "n_arms = 4\n",
    "bandit = BanditProblem(n_arms)\n",
    "\n",
    "total_reward = 0\n",
    "q_vals = np.zeros(n_arms)\n",
    "sum_rewards = np.zeros(n_arms)\n",
    "n_counts = np.ones(n_arms)\n",
    "\n",
    "epsilon = 0.3\n"
   ]
  },
  {
   "cell_type": "code",
   "execution_count": 4,
   "metadata": {},
   "outputs": [],
   "source": [
    "for i in range(10000):\n",
    "  chosen_arm = 0\n",
    "  if bandit.rng.random() > epsilon:\n",
    "    chosen_arm = np.argmax(q_vals)\n",
    "  else:\n",
    "    chosen_arm = bandit.rng.integers(0, n_arms)\n",
    "  reward = bandit.get_reward(chosen_arm)\n",
    "  total_reward += reward\n",
    "  q_vals[chosen_arm] = q_vals[chosen_arm] + (reward - q_vals[chosen_arm])/n_counts[chosen_arm]\n",
    "  n_counts[chosen_arm] += 1"
   ]
  },
  {
   "cell_type": "code",
   "execution_count": 5,
   "metadata": {},
   "outputs": [
    {
     "data": {
      "text/plain": [
       "array([-0.04049755,  0.9747119 ,  1.01570296, -0.09241793])"
      ]
     },
     "execution_count": 5,
     "metadata": {},
     "output_type": "execute_result"
    }
   ],
   "source": [
    "q_vals"
   ]
  },
  {
   "cell_type": "code",
   "execution_count": 6,
   "metadata": {},
   "outputs": [
    {
     "name": "stdout",
     "output_type": "stream",
     "text": [
      "[[0 2]\n",
      " [1 1]\n",
      " [1 2]\n",
      " [0 2]]\n"
     ]
    }
   ],
   "source": [
    "bandit.print_means_and_variances()"
   ]
  }
 ],
 "metadata": {
  "kernelspec": {
   "display_name": "venv",
   "language": "python",
   "name": "python3"
  },
  "language_info": {
   "codemirror_mode": {
    "name": "ipython",
    "version": 3
   },
   "file_extension": ".py",
   "mimetype": "text/x-python",
   "name": "python",
   "nbconvert_exporter": "python",
   "pygments_lexer": "ipython3",
   "version": "3.10.12"
  }
 },
 "nbformat": 4,
 "nbformat_minor": 2
}
